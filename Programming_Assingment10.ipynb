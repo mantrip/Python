{
 "cells": [
  {
   "cell_type": "code",
   "execution_count": null,
   "id": "760ff991",
   "metadata": {},
   "outputs": [],
   "source": [
    "1.\tWrite a Python program to find sum of elements in list?"
   ]
  },
  {
   "cell_type": "code",
   "execution_count": 13,
   "id": "2378a69f",
   "metadata": {},
   "outputs": [
    {
     "name": "stdout",
     "output_type": "stream",
     "text": [
      "10\n",
      "19\n",
      "90\n",
      "\n",
      "[10, 19, 90]\n",
      "119\n"
     ]
    }
   ],
   "source": [
    "try:\n",
    "    my_list = []\n",
    "    while True:\n",
    "        my_list.append(int(input()))\n",
    "except:\n",
    "    print(my_list)\n",
    "summ=0\n",
    "for i in range(0,len(my_list)):\n",
    "    summ=summ+my_list[i]\n",
    "print(summ)"
   ]
  },
  {
   "cell_type": "code",
   "execution_count": null,
   "id": "e431ec14",
   "metadata": {},
   "outputs": [],
   "source": [
    "2.\tWrite a Python program to  Multiply all numbers in the list?"
   ]
  },
  {
   "cell_type": "code",
   "execution_count": 15,
   "id": "12cd10b6",
   "metadata": {},
   "outputs": [
    {
     "name": "stdout",
     "output_type": "stream",
     "text": [
      "1\n",
      "2\n",
      "3\n",
      "4\n",
      "\n",
      "[1, 2, 3, 4]\n",
      "24\n"
     ]
    }
   ],
   "source": [
    "try:\n",
    "    my_list = []\n",
    "    while True:\n",
    "        my_list.append(int(input()))\n",
    "except:\n",
    "    print(my_list)\n",
    "mul=1\n",
    "for i in range(0,len(my_list)):\n",
    "    mul=mul*my_list[i]\n",
    "print(mul)"
   ]
  },
  {
   "cell_type": "code",
   "execution_count": null,
   "id": "067d3d60",
   "metadata": {},
   "outputs": [],
   "source": [
    "3.\tWrite a Python program to find smallest number in a list?"
   ]
  },
  {
   "cell_type": "code",
   "execution_count": 17,
   "id": "bbc40cc1",
   "metadata": {},
   "outputs": [
    {
     "name": "stdout",
     "output_type": "stream",
     "text": [
      "-1\n",
      "2\n",
      "3\n",
      "-100\n",
      "\n",
      "[-1, 2, 3, -100]\n",
      "-100\n"
     ]
    }
   ],
   "source": [
    "try:\n",
    "    my_list = []\n",
    "    while True:\n",
    "        my_list.append(int(input()))\n",
    "except:\n",
    "    print(my_list)\n",
    "print(min(my_list))"
   ]
  },
  {
   "cell_type": "code",
   "execution_count": null,
   "id": "cbd9b564",
   "metadata": {},
   "outputs": [],
   "source": [
    "4.\tWrite a Python program to find largest number in a list?"
   ]
  },
  {
   "cell_type": "code",
   "execution_count": 18,
   "id": "1dce5980",
   "metadata": {},
   "outputs": [
    {
     "name": "stdout",
     "output_type": "stream",
     "text": [
      "2099\n",
      "9088\n",
      "1\n",
      "0\n",
      "-2334903\n",
      "\n",
      "[2099, 9088, 1, 0, -2334903]\n",
      "9088\n"
     ]
    }
   ],
   "source": [
    "try:\n",
    "    my_list = []\n",
    "    while True:\n",
    "        my_list.append(int(input()))\n",
    "except:\n",
    "    print(my_list)\n",
    "print(max(my_list))"
   ]
  },
  {
   "cell_type": "code",
   "execution_count": null,
   "id": "e419d2a2",
   "metadata": {},
   "outputs": [],
   "source": [
    "5.\tWrite a Python program to find second largest number in a list?"
   ]
  },
  {
   "cell_type": "code",
   "execution_count": 21,
   "id": "fedb4c2a",
   "metadata": {},
   "outputs": [
    {
     "name": "stdout",
     "output_type": "stream",
     "text": [
      "1\n",
      "1\n",
      "2\n",
      "3\n",
      "12\n",
      "13\n",
      "\n",
      "[1, 1, 2, 3, 12, 13]\n",
      "12\n"
     ]
    }
   ],
   "source": [
    "try:\n",
    "    my_list = []\n",
    "    while True:\n",
    "        my_list.append(int(input()))\n",
    "except:\n",
    "    print(my_list)\n",
    "my_list.sort()\n",
    "print(my_list[-2])"
   ]
  },
  {
   "cell_type": "code",
   "execution_count": null,
   "id": "b6c933a8",
   "metadata": {},
   "outputs": [],
   "source": [
    "6.\tWrite a Python program to find N largest elements from a list?"
   ]
  },
  {
   "cell_type": "code",
   "execution_count": 24,
   "id": "27df68ee",
   "metadata": {},
   "outputs": [
    {
     "name": "stdout",
     "output_type": "stream",
     "text": [
      "1\n",
      "2\n",
      "3\n",
      "4\n",
      "5\n",
      "6\n",
      "6\n",
      "\n",
      "[1, 2, 3, 4, 5, 6, 6]\n",
      "Enter N number3\n",
      "[5, 6, 6]\n"
     ]
    }
   ],
   "source": [
    "try:\n",
    "    my_list = []\n",
    "    while True:\n",
    "        my_list.append(int(input()))\n",
    "except:\n",
    "    print(my_list)\n",
    "\n",
    "n = int(input(\"Enter N number\"))\n",
    "  \n",
    "my_list.sort()\n",
    "print(my_list[-n:])"
   ]
  },
  {
   "cell_type": "code",
   "execution_count": null,
   "id": "34bdb4c6",
   "metadata": {},
   "outputs": [],
   "source": [
    "7.\tWrite a Python program to print even numbers in a list?"
   ]
  },
  {
   "cell_type": "code",
   "execution_count": 29,
   "id": "e214b7d5",
   "metadata": {},
   "outputs": [
    {
     "name": "stdout",
     "output_type": "stream",
     "text": [
      "1\n",
      "11\n",
      "22\n",
      "24\n",
      "44\n",
      "34\n",
      "35\n",
      "\n",
      "[1, 11, 22, 24, 44, 34, 35]\n",
      "22\n",
      "24\n",
      "44\n",
      "34\n"
     ]
    }
   ],
   "source": [
    "try:\n",
    "    my_list = []\n",
    "    while True:\n",
    "        my_list.append(int(input()))\n",
    "except:\n",
    "    print(my_list)\n",
    "\n",
    "for i in range(0,len(my_list)):\n",
    "    if my_list[i]%2 == 0:\n",
    "        print(my_list[i])"
   ]
  },
  {
   "cell_type": "code",
   "execution_count": null,
   "id": "7a3ac53e",
   "metadata": {},
   "outputs": [],
   "source": [
    "8.\tWrite a Python program to print odd numbers in a List?"
   ]
  },
  {
   "cell_type": "code",
   "execution_count": 30,
   "id": "17a48446",
   "metadata": {},
   "outputs": [
    {
     "name": "stdout",
     "output_type": "stream",
     "text": [
      "1\n",
      "11\n",
      "12\n",
      "14\n",
      "13\n",
      "15\n",
      "122\n",
      "\n",
      "[1, 11, 12, 14, 13, 15, 122]\n",
      "1\n",
      "11\n",
      "13\n",
      "15\n"
     ]
    }
   ],
   "source": [
    "try:\n",
    "    my_list = []\n",
    "    while True:\n",
    "        my_list.append(int(input()))\n",
    "except:\n",
    "    print(my_list)\n",
    "\n",
    "for i in range(0,len(my_list)):\n",
    "    if my_list[i]%2 != 0:\n",
    "        print(my_list[i])"
   ]
  },
  {
   "cell_type": "code",
   "execution_count": null,
   "id": "96bd1a6c",
   "metadata": {},
   "outputs": [],
   "source": [
    "9.\tWrite a Python program to Remove empty List from List?"
   ]
  },
  {
   "cell_type": "code",
   "execution_count": 31,
   "id": "a50171f2",
   "metadata": {},
   "outputs": [
    {
     "name": "stdout",
     "output_type": "stream",
     "text": [
      "The original list is : [5, 6, [], 3, [], [], 9]\n",
      "List after empty list removal : [5, 6, 3, 9]\n"
     ]
    }
   ],
   "source": [
    "test_list = [5, 6, [], 3, [], [], 9]\n",
    "print(\"The original list is : \" + str(test_list))\n",
    "res = list(filter(None, test_list))\n",
    "print (\"List after empty list removal : \" + str(res))"
   ]
  },
  {
   "cell_type": "code",
   "execution_count": null,
   "id": "6a612d67",
   "metadata": {},
   "outputs": [],
   "source": [
    "10.\tWrite a Python program to Cloning or Copying a list?"
   ]
  },
  {
   "cell_type": "code",
   "execution_count": 32,
   "id": "8bf8741b",
   "metadata": {},
   "outputs": [
    {
     "name": "stdout",
     "output_type": "stream",
     "text": [
      "Original List: [4, 8, 2, 10, 15, 18]\n",
      "After Cloning: [4, 8, 2, 10, 15, 18]\n"
     ]
    }
   ],
   "source": [
    "def Cloning(li1):\n",
    "    li_copy = li1[:]\n",
    "    return li_copy\n",
    "   \n",
    "# Driver Code\n",
    "li1 = [4, 8, 2, 10, 15, 18]\n",
    "li2 = Cloning(li1)\n",
    "print(\"Original List:\", li1)\n",
    "print(\"After Cloning:\", li2)"
   ]
  },
  {
   "cell_type": "code",
   "execution_count": null,
   "id": "964b1dcf",
   "metadata": {},
   "outputs": [],
   "source": [
    "11.\tWrite a Python program to Count occurrences of an element in a list?"
   ]
  },
  {
   "cell_type": "code",
   "execution_count": 33,
   "id": "67cb6fbe",
   "metadata": {},
   "outputs": [
    {
     "name": "stdout",
     "output_type": "stream",
     "text": [
      "8 has occurred 5 times\n"
     ]
    }
   ],
   "source": [
    "def countX(lst, x):\n",
    "    return lst.count(x)\n",
    " \n",
    "# Driver Code\n",
    "lst = [8, 6, 8, 10, 8, 20, 10, 8, 8]\n",
    "x = 8\n",
    "print('{} has occurred {} times'.format(x, countX(lst, x)))"
   ]
  },
  {
   "cell_type": "code",
   "execution_count": null,
   "id": "ae44d93a",
   "metadata": {},
   "outputs": [],
   "source": []
  }
 ],
 "metadata": {
  "kernelspec": {
   "display_name": "Python 3 (ipykernel)",
   "language": "python",
   "name": "python3"
  },
  "language_info": {
   "codemirror_mode": {
    "name": "ipython",
    "version": 3
   },
   "file_extension": ".py",
   "mimetype": "text/x-python",
   "name": "python",
   "nbconvert_exporter": "python",
   "pygments_lexer": "ipython3",
   "version": "3.9.7"
  }
 },
 "nbformat": 4,
 "nbformat_minor": 5
}
