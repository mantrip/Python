{
 "cells": [
  {
   "cell_type": "code",
   "execution_count": null,
   "id": "3f4c007f",
   "metadata": {},
   "outputs": [],
   "source": [
    "1.What are the two values of the Boolean data type? How do you write them?"
   ]
  },
  {
   "cell_type": "code",
   "execution_count": null,
   "id": "c1fa821a",
   "metadata": {},
   "outputs": [],
   "source": [
    "0 and 1 are the two values \n",
    "we write them as True and False"
   ]
  },
  {
   "cell_type": "code",
   "execution_count": null,
   "id": "68c64654",
   "metadata": {},
   "outputs": [],
   "source": [
    "2. What are the three different types of Boolean operators?\n"
   ]
  },
  {
   "cell_type": "code",
   "execution_count": null,
   "id": "4079eac8",
   "metadata": {},
   "outputs": [],
   "source": [
    "The three Boolean operators are AND,OR and NOT"
   ]
  },
  {
   "cell_type": "code",
   "execution_count": null,
   "id": "527d7f90",
   "metadata": {},
   "outputs": [],
   "source": [
    "3. Make a list of each Boolean operator's truth tables (i.e. every possible combination of Boolean values for the operator and what it evaluate )."
   ]
  },
  {
   "cell_type": "code",
   "execution_count": null,
   "id": "925c4518",
   "metadata": {},
   "outputs": [],
   "source": [
    "For AND Operator\n",
    "\n",
    "First operand\tSecond operand\tResult\n",
    "     True\t          True\t     True\n",
    "     True\t          False\t     False\n",
    "     False\t          True\t     False\n",
    "     False\t          False\t     False\n",
    "     \n",
    "For OR Operator\n",
    "\n",
    "First operand\tSecond operand\tResult\n",
    "     True\t          True\t     True\n",
    "     True\t          False\t     True\n",
    "     False\t          True\t     True\n",
    "     False\t          False\t     False\n",
    "     \n",
    "For NOT Opearor\n",
    "\n",
    "    Operand\t  Result\t\n",
    "    True\t  False\n",
    "    False\t  True"
   ]
  },
  {
   "cell_type": "code",
   "execution_count": null,
   "id": "54f1cb8e",
   "metadata": {},
   "outputs": [],
   "source": [
    "4. What are the values of the following expressions?"
   ]
  },
  {
   "cell_type": "code",
   "execution_count": null,
   "id": "1bf80fb2",
   "metadata": {},
   "outputs": [],
   "source": [
    "(5 > 4) and (3 == 5) : False\n",
    "not (5 > 4) : False\n",
    "(5 > 4) or (3 == 5) :True\n",
    "not ((5 > 4) or (3 == 5)) : False\n",
    "(True and True) and (True == False) : False\n",
    "(not False) or (not True) : True\n",
    "\n"
   ]
  },
  {
   "cell_type": "code",
   "execution_count": null,
   "id": "d6cd832d",
   "metadata": {},
   "outputs": [],
   "source": [
    "5. What are the six comparison operators?"
   ]
  },
  {
   "cell_type": "code",
   "execution_count": null,
   "id": "7bc98591",
   "metadata": {},
   "outputs": [],
   "source": [
    "Less than ( < )\n",
    "Less than or equal to ( <= )\n",
    "Greater than ( > )\n",
    "Greater than or equal to ( >= )\n",
    "Equal to ( == )\n",
    "Not equal to ( != )"
   ]
  },
  {
   "cell_type": "code",
   "execution_count": null,
   "id": "7e6dd4c2",
   "metadata": {},
   "outputs": [],
   "source": [
    "6. How do you tell the difference between the equal to and assignment operators?Describe a condition and when you would use one."
   ]
  },
  {
   "cell_type": "code",
   "execution_count": null,
   "id": "d2696c3d",
   "metadata": {},
   "outputs": [],
   "source": [
    "Equal operator is ==\n",
    "Assingment operator is =\n",
    "\n",
    "when u want to assing a value to a variable we use =\n",
    "a=3 (3 value is assinged to a)\n",
    "\n",
    "When you want to check two values we use Equal operator\n",
    "a==3 (here we are seeing whether a is equal to 3)"
   ]
  },
  {
   "cell_type": "code",
   "execution_count": null,
   "id": "c1a96070",
   "metadata": {},
   "outputs": [],
   "source": [
    "7. Identify the three blocks in this code:\n",
    "spam = 0\n",
    "if spam == 10:\n",
    "print('eggs')\n",
    "if spam > 5:\n",
    "print('bacon')\n",
    "else:\n",
    "print('ham')\n",
    "print('spam')\n",
    "print('spam')"
   ]
  },
  {
   "cell_type": "code",
   "execution_count": null,
   "id": "d6f43398",
   "metadata": {},
   "outputs": [],
   "source": [
    "if spam == 10:\n",
    "    print('eggs')  //Prints nothing \n",
    "\n",
    "if spam > 5:\n",
    "    print('bacon')\n",
    "else:\n",
    "    print('ham')\n",
    "    print('spam')\n",
    "    print('spam')   //prints ham, spam spam"
   ]
  },
  {
   "cell_type": "code",
   "execution_count": null,
   "id": "ddfd636d",
   "metadata": {},
   "outputs": [],
   "source": [
    "8. Write code that prints Hello if 1 is stored in spam, prints Howdy if 2 is stored in spam, and prints Greetings! if anything else is stored in spam."
   ]
  },
  {
   "cell_type": "code",
   "execution_count": null,
   "id": "0edc399f",
   "metadata": {},
   "outputs": [],
   "source": [
    "spam=int(input(\"Enter any number\"))\n",
    "if spam==1:\n",
    "    print(\"Hello\")\n",
    "elif spam==2:\n",
    "    print(\"Howdy\")\n",
    "else:\n",
    "    print(\"Greeting!\")"
   ]
  },
  {
   "cell_type": "code",
   "execution_count": null,
   "id": "4de2b14c",
   "metadata": {},
   "outputs": [],
   "source": [
    "9.If your programme is stuck in an endless loop, what keys you’ll press?"
   ]
  },
  {
   "cell_type": "code",
   "execution_count": null,
   "id": "1cb4f927",
   "metadata": {},
   "outputs": [],
   "source": [
    "Ctrl+C"
   ]
  },
  {
   "cell_type": "code",
   "execution_count": null,
   "id": "8595af64",
   "metadata": {},
   "outputs": [],
   "source": [
    "10. How can you tell the difference between break and continue?"
   ]
  },
  {
   "cell_type": "code",
   "execution_count": null,
   "id": "453e736b",
   "metadata": {},
   "outputs": [],
   "source": [
    "The break statement will move the execution outside and just after a loop. The continue statement will move the execution to the start of the loop."
   ]
  },
  {
   "cell_type": "code",
   "execution_count": null,
   "id": "d31f550a",
   "metadata": {},
   "outputs": [],
   "source": [
    "11. In a for loop, what is the difference between range(10), range(0, 10), and range(0, 10, 1)?"
   ]
  },
  {
   "cell_type": "code",
   "execution_count": null,
   "id": "fee64f74",
   "metadata": {},
   "outputs": [],
   "source": [
    "range(10) - gives the values from 0 to 9\n",
    "range(0, 10) - gives the values from 0 to 9\n",
    "range(0, 10, 1) - gives the values from 0 to 9 but skipping 1 number (1,3,5,7,9)"
   ]
  },
  {
   "cell_type": "code",
   "execution_count": null,
   "id": "b0393285",
   "metadata": {},
   "outputs": [],
   "source": [
    "12. Write a short program that prints the numbers 1 to 10 using a for loop. Then write an equivalent program that prints the numbers 1 to 10 using a while loop."
   ]
  },
  {
   "cell_type": "code",
   "execution_count": null,
   "id": "57f18f72",
   "metadata": {},
   "outputs": [],
   "source": [
    "for i in range(1,11):\n",
    "    print(i)\n",
    "\n",
    "i=1\n",
    "while(i<=10):\n",
    "    print(i)\n",
    "    i+=1"
   ]
  },
  {
   "cell_type": "code",
   "execution_count": null,
   "id": "04f62eda",
   "metadata": {},
   "outputs": [],
   "source": [
    "13. If you had a function named bacon() inside a module named spam, how would you call it after importing spam?"
   ]
  },
  {
   "cell_type": "code",
   "execution_count": null,
   "id": "eb5dd3d9",
   "metadata": {},
   "outputs": [],
   "source": [
    "This function can be called with spam.bacon()."
   ]
  },
  {
   "cell_type": "code",
   "execution_count": null,
   "id": "7e6354f3",
   "metadata": {},
   "outputs": [],
   "source": []
  },
  {
   "cell_type": "code",
   "execution_count": null,
   "id": "8d035de0",
   "metadata": {},
   "outputs": [],
   "source": []
  }
 ],
 "metadata": {
  "kernelspec": {
   "display_name": "Python 3 (ipykernel)",
   "language": "python",
   "name": "python3"
  },
  "language_info": {
   "codemirror_mode": {
    "name": "ipython",
    "version": 3
   },
   "file_extension": ".py",
   "mimetype": "text/x-python",
   "name": "python",
   "nbconvert_exporter": "python",
   "pygments_lexer": "ipython3",
   "version": "3.9.7"
  }
 },
 "nbformat": 4,
 "nbformat_minor": 5
}
