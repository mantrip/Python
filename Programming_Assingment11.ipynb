{
 "cells": [
  {
   "cell_type": "code",
   "execution_count": null,
   "id": "872d6d20",
   "metadata": {},
   "outputs": [],
   "source": [
    "1.\tWrite a Python program to find words which are greater than given length k?"
   ]
  },
  {
   "cell_type": "code",
   "execution_count": 3,
   "id": "3e0dac17",
   "metadata": {},
   "outputs": [
    {
     "name": "stdout",
     "output_type": "stream",
     "text": [
      "Enter the string : vinay has already done\n",
      "Enter k  (value for accepting string) : 4\n",
      "All words which are greater than given length  4 are  ['vinay', 'already']\n"
     ]
    }
   ],
   "source": [
    "myStr =  input('Enter the string : ')\n",
    "k = int(input('Enter k  (value for accepting string) : '))\n",
    "largerStrings = []\n",
    "\n",
    "# Finding words with length greater than k\n",
    "words = myStr.split(\" \")\n",
    "for word in words:\n",
    "\tif len(word) > k:\n",
    "\t\tlargerStrings.append(word)\n",
    "\t\t\n",
    "# printing values\n",
    "print(\"All words which are greater than given length \", k, \"are \", largerStrings)"
   ]
  },
  {
   "cell_type": "code",
   "execution_count": null,
   "id": "0f60d961",
   "metadata": {},
   "outputs": [],
   "source": [
    "2.\tWrite a Python program for removing i-th character from a string?"
   ]
  },
  {
   "cell_type": "code",
   "execution_count": 4,
   "id": "68d32141",
   "metadata": {},
   "outputs": [
    {
     "name": "stdout",
     "output_type": "stream",
     "text": [
      "Pythnisgood\n"
     ]
    }
   ],
   "source": [
    "def remove_char(s, i):\n",
    "    a = s[ : i]\n",
    "    b = s[i + 1: ]\n",
    "\n",
    "    return a+b\n",
    "\n",
    "string = \"Pythonisgood\"\n",
    "# Remove ith index element\n",
    "i = 5\n",
    "print(remove_char(string,i-1))"
   ]
  },
  {
   "cell_type": "code",
   "execution_count": null,
   "id": "09963a6c",
   "metadata": {},
   "outputs": [],
   "source": [
    "3.\tWrite a Python program to split and join a string?"
   ]
  },
  {
   "cell_type": "code",
   "execution_count": 5,
   "id": "2c7db352",
   "metadata": {},
   "outputs": [
    {
     "name": "stdout",
     "output_type": "stream",
     "text": [
      "After Splitting:  ['Welcome', 'to', 'study', 'tonight']\n",
      "After joining:  Welcome-to-study-tonight\n"
     ]
    }
   ],
   "source": [
    "def split_string(string):\n",
    "    # Splitting based on space delimiter\n",
    "    list_string = string.split(' ')\n",
    "    return list_string\n",
    "\n",
    "def join_string(list_string):\n",
    "    # Joining based on '-' delimiter\n",
    "    string = '-'.join(list_string)\n",
    "    return string\n",
    "\n",
    "string = 'Welcome to study tonight'\n",
    "# Splitting a string\n",
    "list_string = split_string(string)\n",
    "print(\"After Splitting: \",list_string)\n",
    "\n",
    "# Join list of strings into one\n",
    "res_string = join_string(list_string)\n",
    "print(\"After joining: \",res_string)"
   ]
  },
  {
   "cell_type": "code",
   "execution_count": null,
   "id": "17198fc8",
   "metadata": {},
   "outputs": [],
   "source": [
    "4.\tWrite a Python to check if a given string is binary string or not?"
   ]
  },
  {
   "cell_type": "code",
   "execution_count": 8,
   "id": "f2d35430",
   "metadata": {},
   "outputs": [
    {
     "name": "stdout",
     "output_type": "stream",
     "text": [
      "Binary String\n",
      "Non Binary String\n"
     ]
    }
   ],
   "source": [
    "def check(string) :\n",
    "    b = set(string)\n",
    "    s = {'0', '1'}\n",
    "    if s == b or b == {'0'} or b == {'1'}:\n",
    "        print(\"Binary String\")\n",
    "    else :\n",
    "        print(\"Non Binary String\")\n",
    "  \n",
    "s1= \"00110101\"\n",
    "# function calling\n",
    "check(s1)\n",
    "s2 = \"106\"\n",
    "check(s2)"
   ]
  },
  {
   "cell_type": "code",
   "execution_count": null,
   "id": "575a936b",
   "metadata": {},
   "outputs": [],
   "source": [
    "5.\tWrite a Python program to find uncommon words from two Strings?"
   ]
  },
  {
   "cell_type": "code",
   "execution_count": 9,
   "id": "6a960f4c",
   "metadata": {},
   "outputs": [
    {
     "name": "stdout",
     "output_type": "stream",
     "text": [
      "['peach', 'mango']\n"
     ]
    }
   ],
   "source": [
    "def uncommon(s1,s2):\n",
    "  s1=s1.split()\n",
    "  s2=s2.split()\n",
    "  k=set(s1).symmetric_difference(set(s2))\n",
    "  return k\n",
    "\n",
    "a = \"berry mango cherry\"\n",
    "b = \"berry peach cherry\"\n",
    "print(list(uncommon(a,b)))"
   ]
  },
  {
   "cell_type": "code",
   "execution_count": null,
   "id": "60780de7",
   "metadata": {},
   "outputs": [],
   "source": [
    "6.\tWrite a Python to find all duplicate characters in string?"
   ]
  },
  {
   "cell_type": "code",
   "execution_count": 11,
   "id": "ac662b1b",
   "metadata": {},
   "outputs": [
    {
     "name": "stdout",
     "output_type": "stream",
     "text": [
      "enter the string whose duplicate characters you want to find:vvvvvvvvvvviiiijhgsss\n",
      "the duplicate character in vvvvvvvvvvviiiijhgsss is\n",
      "['v', 'i', 's']\n"
     ]
    }
   ],
   "source": [
    "string = input(\"enter the string whose duplicate characters you want to find:\")\n",
    "def duplicates_char(s):\n",
    "    elements = {}\n",
    "    for char in s:\n",
    "        if elements.get(char,None) != None:\n",
    "            elements[char]+=1\n",
    "        else:\n",
    "            elements[char] = 1\n",
    "    return [k for k,v in elements.items() if v>1]\n",
    "print(\"the duplicate character in\",string,\"is\")\n",
    "print(duplicates_char(string))"
   ]
  },
  {
   "cell_type": "code",
   "execution_count": null,
   "id": "0195bbed",
   "metadata": {},
   "outputs": [],
   "source": [
    "7.\tWrite a Python Program to check if a string contains any special character?"
   ]
  },
  {
   "cell_type": "code",
   "execution_count": 13,
   "id": "dd5247ac",
   "metadata": {},
   "outputs": [
    {
     "name": "stdout",
     "output_type": "stream",
     "text": [
      "Enter any string: sdvs sdvsdv sfseds\n",
      "String does not contain any special characters.\n"
     ]
    }
   ],
   "source": [
    "import re\n",
    "\n",
    "# take inputs\n",
    "string = input('Enter any string: ')\n",
    " \n",
    "# special characters\n",
    "special_char = re.compile('[@_!#$%^&*()<>?/\\|}{~:]')\n",
    "\n",
    "# check string contains special characters or not\n",
    "if(special_char.search(string) == None):\n",
    "    print('String does not contain any special characters.')\n",
    "else:\n",
    "    print('The string contains special characters.')"
   ]
  },
  {
   "cell_type": "code",
   "execution_count": null,
   "id": "1eab86b2",
   "metadata": {},
   "outputs": [],
   "source": []
  }
 ],
 "metadata": {
  "kernelspec": {
   "display_name": "Python 3 (ipykernel)",
   "language": "python",
   "name": "python3"
  },
  "language_info": {
   "codemirror_mode": {
    "name": "ipython",
    "version": 3
   },
   "file_extension": ".py",
   "mimetype": "text/x-python",
   "name": "python",
   "nbconvert_exporter": "python",
   "pygments_lexer": "ipython3",
   "version": "3.9.7"
  }
 },
 "nbformat": 4,
 "nbformat_minor": 5
}
