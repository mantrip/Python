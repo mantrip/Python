{
 "cells": [
  {
   "cell_type": "code",
   "execution_count": null,
   "id": "77edd91a",
   "metadata": {},
   "outputs": [],
   "source": [
    "1.\tWrite a Python Program to find sum of array?"
   ]
  },
  {
   "cell_type": "code",
   "execution_count": 1,
   "id": "cd9ce1fc",
   "metadata": {},
   "outputs": [
    {
     "name": "stdout",
     "output_type": "stream",
     "text": [
      "Sum of all the elements of an array: 15\n"
     ]
    }
   ],
   "source": [
    "arr = [1, 2, 3, 4, 5];     \n",
    "sum = 0;    \n",
    "     \n",
    "#Loop through the array to calculate sum of elements    \n",
    "for i in range(0, len(arr)):    \n",
    "   sum = sum + arr[i];    \n",
    "     \n",
    "print(\"Sum of all the elements of an array: \" + str(sum));  "
   ]
  },
  {
   "cell_type": "code",
   "execution_count": null,
   "id": "c5fe5981",
   "metadata": {},
   "outputs": [],
   "source": [
    "2.\tWrite a Python Program to find largest element in an array?"
   ]
  },
  {
   "cell_type": "code",
   "execution_count": null,
   "id": "1f1f72d2",
   "metadata": {},
   "outputs": [],
   "source": [
    "arr = [1, 2, 3, 4, 5]; \n",
    "print(max(arr))"
   ]
  },
  {
   "cell_type": "code",
   "execution_count": null,
   "id": "ea8c03c1",
   "metadata": {},
   "outputs": [],
   "source": [
    "3.\tWrite a Python Program for array rotation?"
   ]
  },
  {
   "cell_type": "code",
   "execution_count": 5,
   "id": "281e0b48",
   "metadata": {},
   "outputs": [
    {
     "name": "stdout",
     "output_type": "stream",
     "text": [
      "Array after left rotation is:  [4, 5, 6, 7, 1, 2, 3]\n"
     ]
    }
   ],
   "source": [
    "def rotateArray(a,d):\n",
    "    temp = []\n",
    "    n=len(a)\n",
    "    for i in range(d,n):\n",
    "        temp.append(a[i])\n",
    "    i = 0\n",
    "    for i in range (0,d):\n",
    "        temp.append(a[i])\n",
    "    a=temp.copy()\n",
    "    return a\n",
    " \n",
    "arr = [1, 2, 3, 4, 5, 6, 7]\n",
    "print(\"Array after left rotation is: \", end=' ')\n",
    "print(rotateArray(arr, 3))"
   ]
  },
  {
   "cell_type": "code",
   "execution_count": null,
   "id": "c4303b5e",
   "metadata": {},
   "outputs": [],
   "source": [
    "4.\tWrite a Python Program to Split the array and add the first part to the end?"
   ]
  },
  {
   "cell_type": "code",
   "execution_count": 7,
   "id": "b686c907",
   "metadata": {},
   "outputs": [
    {
     "name": "stdout",
     "output_type": "stream",
     "text": [
      "50 36 15 40 15 16 "
     ]
    }
   ],
   "source": [
    "def SplitArray(arr, n, k):\n",
    "\tfor i in range(0, k):\n",
    "\t\tx = arr[0]\n",
    "\t\tfor j in range(0, n-1):\n",
    "\t\t\tarr[j] = arr[j + 1]\n",
    "\t\t\n",
    "\t\tarr[n-1] = x\t\t\n",
    "arr = [15, 40, 15, 16, 50, 36]\n",
    "n = len(arr)\n",
    "position = 4\n",
    "SplitArray(arr, n, position)\n",
    "for i in range(0, n):\n",
    "\tprint(arr[i], end = ' ')"
   ]
  },
  {
   "cell_type": "code",
   "execution_count": null,
   "id": "1980b3f0",
   "metadata": {},
   "outputs": [],
   "source": [
    "5.\tWrite a Python Program to check if given array is Monotonic?"
   ]
  },
  {
   "cell_type": "code",
   "execution_count": 8,
   "id": "2ee1aefb",
   "metadata": {},
   "outputs": [
    {
     "name": "stdout",
     "output_type": "stream",
     "text": [
      "True\n"
     ]
    }
   ],
   "source": [
    "def isMonotonic(A):\n",
    "  \n",
    "    return (all(A[i] <= A[i + 1] for i in range(len(A) - 1)) or\n",
    "            all(A[i] >= A[i + 1] for i in range(len(A) - 1)))\n",
    "  \n",
    "# Driver program\n",
    "A = [6, 5, 4, 4]\n",
    "  \n",
    "# Print required result\n",
    "print(isMonotonic(A))"
   ]
  },
  {
   "cell_type": "code",
   "execution_count": null,
   "id": "8278089b",
   "metadata": {},
   "outputs": [],
   "source": []
  }
 ],
 "metadata": {
  "kernelspec": {
   "display_name": "Python 3 (ipykernel)",
   "language": "python",
   "name": "python3"
  },
  "language_info": {
   "codemirror_mode": {
    "name": "ipython",
    "version": 3
   },
   "file_extension": ".py",
   "mimetype": "text/x-python",
   "name": "python",
   "nbconvert_exporter": "python",
   "pygments_lexer": "ipython3",
   "version": "3.9.7"
  }
 },
 "nbformat": 4,
 "nbformat_minor": 5
}
