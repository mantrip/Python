{
 "cells": [
  {
   "cell_type": "raw",
   "id": "08e3ad1d",
   "metadata": {},
   "source": [
    "1. Create a function in python to read the text file and replace specific content\n",
    "of the file"
   ]
  },
  {
   "cell_type": "code",
   "execution_count": 5,
   "id": "dd124bb7",
   "metadata": {},
   "outputs": [
    {
     "name": "stdout",
     "output_type": "stream",
     "text": [
      "This is placement assignment\n"
     ]
    }
   ],
   "source": [
    "inpf=open(\"Example.txt\",\"rt\")\n",
    "data=inpf.read()\n",
    "print(data)"
   ]
  },
  {
   "cell_type": "code",
   "execution_count": 6,
   "id": "b9d39a1f",
   "metadata": {},
   "outputs": [
    {
     "name": "stdout",
     "output_type": "stream",
     "text": [
      "This is screening assignment\n"
     ]
    }
   ],
   "source": [
    "def replace_string(old,new):\n",
    "    with open('Example.txt', 'r') as file :\n",
    "        filedata = file.read()\n",
    "    filedata = filedata.replace(old,new)\n",
    "    with open('Example.txt', 'w') as file:\n",
    "        file.write(filedata)\n",
    "    file.close()\n",
    "    print(filedata)\n",
    "\n",
    "replace_string('placement','screening' )"
   ]
  },
  {
   "cell_type": "raw",
   "id": "bd65401a",
   "metadata": {},
   "source": [
    "2. Demonstrate use of abstract class, multiple inheritance and decorator in\n",
    "python using examples."
   ]
  },
  {
   "cell_type": "markdown",
   "id": "5628503e",
   "metadata": {},
   "source": [
    "# Use of Abstract class"
   ]
  },
  {
   "cell_type": "raw",
   "id": "67fc7fe5",
   "metadata": {},
   "source": [
    "In Python, abstract base classes provide a blueprint for concrete classes. They don't contain implementation. Instead, they provide an interface and make sure that derived concrete classes are properly implemented. Abstract base classes cannot be instantiated."
   ]
  },
  {
   "cell_type": "code",
   "execution_count": 9,
   "id": "f9940953",
   "metadata": {},
   "outputs": [
    {
     "name": "stdout",
     "output_type": "stream",
     "text": [
      "I can walk and run\n",
      "I can crawl\n"
     ]
    }
   ],
   "source": [
    "# Example\n",
    "\n",
    "from abc import ABC\n",
    "class Animal(ABC):\n",
    "    def move(self):\n",
    "        pass\n",
    "\n",
    "class Human(Animal):\n",
    "    def move(self):\n",
    "        print(\"I can walk and run\")\n",
    "\n",
    "class Snake(Animal):\n",
    "    def move(self):\n",
    "        print(\"I can crawl\")\n",
    "\n",
    "class Dog(Animal):\n",
    "    def move(self):\n",
    "        print(\"I can bark\")\n",
    "# Driver code\n",
    "R = Human()\n",
    "R.move()\n",
    "\n",
    "K = Snake()\n",
    "K.move()\n",
    "\n"
   ]
  },
  {
   "cell_type": "markdown",
   "id": "fe7f07fc",
   "metadata": {},
   "source": [
    "# Use of Multiple Inheritance "
   ]
  },
  {
   "cell_type": "raw",
   "id": "c7944783",
   "metadata": {},
   "source": [
    "When a class is derived from more than one base class it is called multiple Inheritance. The derived class inherits all the features of the base case."
   ]
  },
  {
   "cell_type": "code",
   "execution_count": 11,
   "id": "d6853fe8",
   "metadata": {},
   "outputs": [
    {
     "name": "stdout",
     "output_type": "stream",
     "text": [
      "In Class2\n"
     ]
    }
   ],
   "source": [
    "# Example\n",
    "\n",
    "class Class1:\n",
    "    def m(self):\n",
    "        print(\"In Class1\")\n",
    "\n",
    "class Class2(Class1):\n",
    "    def m(self):\n",
    "        print(\"In Class2\")\n",
    "\n",
    "class Class3(Class1):\n",
    "    def m(self):\n",
    "        print(\"In Class3\")\n",
    "\n",
    "class Class4(Class2, Class3):\n",
    "    pass\n",
    "\n",
    "obj = Class4()\n",
    "obj.m()\n"
   ]
  },
  {
   "cell_type": "markdown",
   "id": "c378c08c",
   "metadata": {},
   "source": [
    "# Use of Decorator"
   ]
  },
  {
   "cell_type": "raw",
   "id": "e35bd96d",
   "metadata": {},
   "source": [
    "A decorator is a design pattern in Python that allows a user to add new functionality to an existing object without modifying its structure. Decorators are usually called before the definition of a function you want to decorate."
   ]
  },
  {
   "cell_type": "code",
   "execution_count": 14,
   "id": "d9ef1a01",
   "metadata": {},
   "outputs": [
    {
     "name": "stdout",
     "output_type": "stream",
     "text": [
      "This is the added text to the actual function.\n",
      "This is the actual function.\n"
     ]
    }
   ],
   "source": [
    "def sampleDecorator(func):\n",
    "    def addingFunction():\n",
    "        print(\"This is the added text to the actual function.\")\n",
    "        func()\n",
    "\n",
    "    return addingFunction\n",
    "\n",
    "\n",
    "@sampleDecorator\n",
    "def actualFunction():\n",
    "    print(\"This is the actual function.\")\n",
    "\n",
    "\n",
    "actualFunction()"
   ]
  },
  {
   "cell_type": "code",
   "execution_count": null,
   "id": "7dd29b3e",
   "metadata": {},
   "outputs": [],
   "source": []
  }
 ],
 "metadata": {
  "kernelspec": {
   "display_name": "Python 3 (ipykernel)",
   "language": "python",
   "name": "python3"
  },
  "language_info": {
   "codemirror_mode": {
    "name": "ipython",
    "version": 3
   },
   "file_extension": ".py",
   "mimetype": "text/x-python",
   "name": "python",
   "nbconvert_exporter": "python",
   "pygments_lexer": "ipython3",
   "version": "3.9.7"
  }
 },
 "nbformat": 4,
 "nbformat_minor": 5
}
