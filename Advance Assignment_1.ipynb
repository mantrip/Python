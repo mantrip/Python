{
 "cells": [
  {
   "cell_type": "code",
   "execution_count": null,
   "id": "5bc1687a",
   "metadata": {},
   "outputs": [],
   "source": [
    "1.What is the purpose of Python's OOP?"
   ]
  },
  {
   "cell_type": "code",
   "execution_count": null,
   "id": "23560fb9",
   "metadata": {},
   "outputs": [],
   "source": [
    "In Python, object-oriented Programming (OOPs) is a programming paradigm\n",
    "that uses objects and classes in programming. It aims to implementreal-world\n",
    "entities like inheritance, polymorphisms, encapsulation, etc. in the programming."
   ]
  },
  {
   "cell_type": "code",
   "execution_count": null,
   "id": "95a32b02",
   "metadata": {},
   "outputs": [],
   "source": [
    "2. Where does an inheritance search look for an attribute?"
   ]
  },
  {
   "cell_type": "code",
   "execution_count": null,
   "id": "bfc02612",
   "metadata": {},
   "outputs": [],
   "source": [
    "All of these objects are namespaces (packages of variables), and the inheritance\n",
    "search is simply a search of the tree from bottom to top looking for the lowest occurrence of an attribute name"
   ]
  },
  {
   "cell_type": "code",
   "execution_count": null,
   "id": "e6daa295",
   "metadata": {},
   "outputs": [],
   "source": [
    "3. How do you distinguish between a class object and an instance object?"
   ]
  },
  {
   "cell_type": "code",
   "execution_count": null,
   "id": "81752d74",
   "metadata": {},
   "outputs": [],
   "source": [
    "Differences between Class AND Object:\n",
    "A class is a template for creating objects in program.\n",
    "The object is an instance of a class.\n",
    "A class is a logical entity\n",
    "Object is a physical entity\n",
    "A class does not allocate memory space when it is created.\n",
    "Object allocates memory space whenever they are created."
   ]
  },
  {
   "cell_type": "code",
   "execution_count": null,
   "id": "d89de6c1",
   "metadata": {},
   "outputs": [],
   "source": [
    "4.What makes the first argument in a class’s method function special?"
   ]
  },
  {
   "cell_type": "code",
   "execution_count": null,
   "id": "623fada6",
   "metadata": {},
   "outputs": [],
   "source": [
    "The first argument of every class method, including init, is always a referenceto the current \n",
    "instance of the class. By convention, this argument is always named self. In the init method, \n",
    "self refers to the newly created object; in other class methods,it refers to the instance whose method was called."
   ]
  },
  {
   "cell_type": "code",
   "execution_count": null,
   "id": "c2e43132",
   "metadata": {},
   "outputs": [],
   "source": [
    "5.What is the purpose of the __init__ method?"
   ]
  },
  {
   "cell_type": "code",
   "execution_count": null,
   "id": "96ab85bc",
   "metadata": {},
   "outputs": [],
   "source": [
    "The __init__ function is called every time an object is created from a class. The __init__ method\n",
    "lets the class initialize the object's attributes and serves no other purpose.It is only used within classes"
   ]
  },
  {
   "cell_type": "code",
   "execution_count": null,
   "id": "e9a31998",
   "metadata": {},
   "outputs": [],
   "source": [
    "6.What is the process for creating a class instance?"
   ]
  },
  {
   "cell_type": "code",
   "execution_count": null,
   "id": "5f6e6185",
   "metadata": {},
   "outputs": [],
   "source": [
    "When you create an object, you are creating an instance of a class, therefore \"instantiating\" a class. \n",
    "The new operator requires a single, postfix argument: a call to a constructor. The name of the constructor \n",
    "provides the name of the class to instantiate. The constructor initializes the new object."
   ]
  },
  {
   "cell_type": "code",
   "execution_count": null,
   "id": "15735bf5",
   "metadata": {},
   "outputs": [],
   "source": [
    "7.What is the process for creating a class?"
   ]
  },
  {
   "cell_type": "code",
   "execution_count": null,
   "id": "b03ea335",
   "metadata": {},
   "outputs": [],
   "source": [
    "There are three steps when creating an object from a class. Declaration : A variable declaration with a variable name\n",
    "with an object type. Instantiation : The 'new' keyword is used to create the object. \n",
    "Initialization : The 'new' keyword is followed by a call o a constructor."
   ]
  },
  {
   "cell_type": "code",
   "execution_count": null,
   "id": "e46a6f50",
   "metadata": {},
   "outputs": [],
   "source": [
    "8. How would you define the superclasses of a class?"
   ]
  },
  {
   "cell_type": "code",
   "execution_count": null,
   "id": "09d06b35",
   "metadata": {},
   "outputs": [],
   "source": [
    "The class from which a class inherits is called the parent or superclass. A class which inherits\n",
    "from a superclass is called a subclass, also called heir class or child class. Superclasses are sometimes\n",
    "called ancestors as well"
   ]
  },
  {
   "cell_type": "code",
   "execution_count": null,
   "id": "439a934f",
   "metadata": {},
   "outputs": [],
   "source": []
  }
 ],
 "metadata": {
  "kernelspec": {
   "display_name": "Python 3 (ipykernel)",
   "language": "python",
   "name": "python3"
  },
  "language_info": {
   "codemirror_mode": {
    "name": "ipython",
    "version": 3
   },
   "file_extension": ".py",
   "mimetype": "text/x-python",
   "name": "python",
   "nbconvert_exporter": "python",
   "pygments_lexer": "ipython3",
   "version": "3.9.7"
  }
 },
 "nbformat": 4,
 "nbformat_minor": 5
}
