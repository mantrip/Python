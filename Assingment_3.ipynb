{
 "cells": [
  {
   "cell_type": "code",
   "execution_count": null,
   "id": "538a6420",
   "metadata": {},
   "outputs": [],
   "source": [
    "1. Why are functions advantageous to have in your programs?"
   ]
  },
  {
   "cell_type": "code",
   "execution_count": null,
   "id": "9be2173d",
   "metadata": {},
   "outputs": [],
   "source": [
    "Functions reduce the need for duplicate code. This makes programs shorter, easier to read, and easier to update."
   ]
  },
  {
   "cell_type": "code",
   "execution_count": null,
   "id": "b1323edc",
   "metadata": {},
   "outputs": [],
   "source": [
    "2. When does the code in a function run: when it's specified or when it's called?"
   ]
  },
  {
   "cell_type": "code",
   "execution_count": null,
   "id": "8b91c356",
   "metadata": {},
   "outputs": [],
   "source": [
    "The code in a function executes when the function is called, not when the function is defined."
   ]
  },
  {
   "cell_type": "code",
   "execution_count": null,
   "id": "3fa9d780",
   "metadata": {},
   "outputs": [],
   "source": [
    "3. What statement creates a function?"
   ]
  },
  {
   "cell_type": "code",
   "execution_count": null,
   "id": "5acd22af",
   "metadata": {},
   "outputs": [],
   "source": [
    "The def statement defines (that is, creates) a function."
   ]
  },
  {
   "cell_type": "code",
   "execution_count": null,
   "id": "3a97311d",
   "metadata": {},
   "outputs": [],
   "source": [
    "4. What is the difference between a function and a function call?"
   ]
  },
  {
   "cell_type": "code",
   "execution_count": null,
   "id": "12a73166",
   "metadata": {},
   "outputs": [],
   "source": [
    "A function consists of the def statement and the code in its def clause.\n",
    "\n",
    "A function call is what moves the program execution into the function, and the function call evaluates to the function's return value."
   ]
  },
  {
   "cell_type": "code",
   "execution_count": null,
   "id": "64de7a72",
   "metadata": {},
   "outputs": [],
   "source": [
    "5. How many global scopes are there in a Python program? How many local scopes?"
   ]
  },
  {
   "cell_type": "code",
   "execution_count": null,
   "id": "f9633f8a",
   "metadata": {},
   "outputs": [],
   "source": [
    "There is one global scope, and a local scope is created whenever a function is called."
   ]
  },
  {
   "cell_type": "code",
   "execution_count": null,
   "id": "73882191",
   "metadata": {},
   "outputs": [],
   "source": [
    "6. What happens to variables in a local scope when the function call returns?"
   ]
  },
  {
   "cell_type": "code",
   "execution_count": null,
   "id": "50aeac72",
   "metadata": {},
   "outputs": [],
   "source": [
    "When a function returns, the local scope is destroyed, and all the variables in it are forgotten."
   ]
  },
  {
   "cell_type": "code",
   "execution_count": null,
   "id": "0c0a14fc",
   "metadata": {},
   "outputs": [],
   "source": [
    "7. What is the concept of a return value? Is it possible to have a return value in an expression?"
   ]
  },
  {
   "cell_type": "code",
   "execution_count": null,
   "id": "e1226dc9",
   "metadata": {},
   "outputs": [],
   "source": [
    "A return value is the value that a function call evaluates to. Like any value, a return value can be used as part of an expression."
   ]
  },
  {
   "cell_type": "code",
   "execution_count": null,
   "id": "2e12a6e4",
   "metadata": {},
   "outputs": [],
   "source": [
    "8. If a function does not have a return statement, what is the return value of a call to that function?"
   ]
  },
  {
   "cell_type": "code",
   "execution_count": null,
   "id": "518139ad",
   "metadata": {},
   "outputs": [],
   "source": [
    "If there is no return statement for a function, its return value is None."
   ]
  },
  {
   "cell_type": "code",
   "execution_count": null,
   "id": "223dd3c6",
   "metadata": {},
   "outputs": [],
   "source": [
    "9. How do you make a function variable refer to the global variable?"
   ]
  },
  {
   "cell_type": "code",
   "execution_count": null,
   "id": "2d93cfd6",
   "metadata": {},
   "outputs": [],
   "source": [
    "A global statement will force a variable in a function to refer to the global variable."
   ]
  },
  {
   "cell_type": "code",
   "execution_count": null,
   "id": "c6b79038",
   "metadata": {},
   "outputs": [],
   "source": [
    "10. What is the data type of None?"
   ]
  },
  {
   "cell_type": "code",
   "execution_count": null,
   "id": "5d248cab",
   "metadata": {},
   "outputs": [],
   "source": [
    "The data type of None is NoneType."
   ]
  },
  {
   "cell_type": "code",
   "execution_count": null,
   "id": "8813bdb0",
   "metadata": {},
   "outputs": [],
   "source": [
    "11. What does the sentence import areallyourpetsnamederic do?"
   ]
  },
  {
   "cell_type": "code",
   "execution_count": null,
   "id": "d7f74652",
   "metadata": {},
   "outputs": [],
   "source": [
    "That import statement imports a module named areallyourpetsnamederic. (This isn’t a real Python module, by the way.)"
   ]
  },
  {
   "cell_type": "code",
   "execution_count": null,
   "id": "c9777e56",
   "metadata": {},
   "outputs": [],
   "source": [
    "12. If you had a bacon() feature in a spam module, what would you call it after importing spam?"
   ]
  },
  {
   "cell_type": "code",
   "execution_count": null,
   "id": "df6dc661",
   "metadata": {},
   "outputs": [],
   "source": [
    "This function can be called with spam.bacon()."
   ]
  },
  {
   "cell_type": "code",
   "execution_count": null,
   "id": "4a4ef19c",
   "metadata": {},
   "outputs": [],
   "source": [
    "13. What can you do to save a programme from crashing if it encounters an error?"
   ]
  },
  {
   "cell_type": "code",
   "execution_count": null,
   "id": "9fabbdca",
   "metadata": {},
   "outputs": [],
   "source": [
    "Place the line of code that might cause an error in a try clause."
   ]
  },
  {
   "cell_type": "code",
   "execution_count": null,
   "id": "0fa67d99",
   "metadata": {},
   "outputs": [],
   "source": [
    "14. What is the purpose of the try clause? What is the purpose of the except clause?"
   ]
  },
  {
   "cell_type": "code",
   "execution_count": null,
   "id": "238a273e",
   "metadata": {},
   "outputs": [],
   "source": [
    "The code that could potentially cause an error goes in the try clause.\n",
    "\n",
    "The code that executes if an error happens goes in the except clause."
   ]
  }
 ],
 "metadata": {
  "kernelspec": {
   "display_name": "Python 3 (ipykernel)",
   "language": "python",
   "name": "python3"
  },
  "language_info": {
   "codemirror_mode": {
    "name": "ipython",
    "version": 3
   },
   "file_extension": ".py",
   "mimetype": "text/x-python",
   "name": "python",
   "nbconvert_exporter": "python",
   "pygments_lexer": "ipython3",
   "version": "3.9.7"
  }
 },
 "nbformat": 4,
 "nbformat_minor": 5
}
